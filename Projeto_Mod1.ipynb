{
  "nbformat": 4,
  "nbformat_minor": 0,
  "metadata": {
    "colab": {
      "provenance": []
    },
    "kernelspec": {
      "name": "python3",
      "display_name": "Python 3"
    },
    "language_info": {
      "name": "python"
    }
  },
  "cells": [
    {
      "cell_type": "markdown",
      "source": [
        "**Metodologia NPS - Net Promoter Score**\n",
        "\n",
        "A NPS é uma metodologia para medir a fidelidade dos clientes à sua marca, serviço ou produto através da pergunta 'De 0 a 10, quanto vc recomenda XPTO marca/produto/serviço a um amigo ou familiar?'"
      ],
      "metadata": {
        "id": "hD9EMBkZl1pS"
      }
    },
    {
      "cell_type": "markdown",
      "source": [
        "Conforme a nota dada pelo cliente, ele é classificado em detrator, neutro ou promotor:"
      ],
      "metadata": {
        "id": "YtS10qKlp76y"
      }
    },
    {
      "cell_type": "code",
      "source": [
        "nota_nps = int(input('De 0 a 10, quanto vc recomenda ABC a um amigo ou familiar?\\n'))  #\\n: quebra de linha\n",
        "if nota_nps <= 6:\n",
        "    print('Cliente detrator')\n",
        "elif nota_nps == 7 or nota_nps == 8:\n",
        "    print('Cliente neutro')\n",
        "elif nota_nps == 9 or nota_nps == 10:  #Não usar else porque permite que qualquer valor numérico diferente de 0 a 8 seja considerado promotor.\n",
        "    print('Cliente promotor')"
      ],
      "metadata": {
        "colab": {
          "base_uri": "https://localhost:8080/"
        },
        "id": "ib4egcTerZ9D",
        "outputId": "978f41e8-e382-44a8-d618-cb7dfe9f833b"
      },
      "execution_count": 6,
      "outputs": [
        {
          "output_type": "stream",
          "name": "stdout",
          "text": [
            "De 0 a 10, quanto vc recomenda ABC a um amigo ou familiar?\n",
            "9\n",
            "Cliente promotor\n"
          ]
        }
      ]
    },
    {
      "cell_type": "markdown",
      "source": [
        "De acordo com a quantidade de respondentes promotores e detratores, e a quantidade de respondentes total, calculamos o NPS:\n",
        "\n",
        "NPS = (% de respondentes promotores) -  (% de respondentes detratores) / total de respondentes\n",
        "\n",
        "Veja que a nota específica dada pelo cliente não importa no cálculo, apenas se ele foi detrator, neutro ou promotor. Então supondo que tenhamos tido 5 respondentes, podemos calcular o NPS:"
      ],
      "metadata": {
        "id": "K0THZsyRtc0G"
      }
    },
    {
      "cell_type": "code",
      "source": [
        "cliente1 = 10\n",
        "cliente2 = 8\n",
        "cliente3 = 10\n",
        "cliente4 = 5\n",
        "cliente5= 7\n",
        "\n",
        "promotor = 'cliente1','cliente3'\n",
        "neutro = 'cliente2', 'cliente5'\n",
        "detrator = {'cliente4'}    #Sem as chaves não estava contando como 1 resultado na função len, estava considerando igual a cliente4 e trazendo o NPS errado.\n",
        "\n",
        "total_respondentes = len(promotor) + len(neutro) + len(detrator)\n",
        "\n",
        "nps = (((len(promotor)) - (len(detrator))) / (total_respondentes)) * 100\n",
        "nps_convert = int(nps)  #Conversão feita pq calculou 20.0 e o NPS são apenas números inteiros.\n",
        "print(nps_convert)"
      ],
      "metadata": {
        "colab": {
          "base_uri": "https://localhost:8080/"
        },
        "id": "mMPm__ag7kp1",
        "outputId": "48b14c3b-ab35-4dc3-f497-456f636daf99"
      },
      "execution_count": 8,
      "outputs": [
        {
          "output_type": "stream",
          "name": "stdout",
          "text": [
            "20\n"
          ]
        }
      ]
    },
    {
      "cell_type": "markdown",
      "source": [
        "A nota do NPS pode variar de -100 a 100, sendo que quanto mais próximo de 100, melhor. Neste sentido, tem-se quatro zonas de classificação:\n",
        "* -100 a 0: Zona Crítica\n",
        "* 1 a 50: Zona de Aperfeiçoamento\n",
        "* 51 a 75: Zona de Qualidade\n",
        "* 76 a 100: Zona de Excelência\n",
        "\n",
        "Considerando o exemplo apresentado anteriormente, temos que:"
      ],
      "metadata": {
        "id": "JLnn3M7oFqhd"
      }
    },
    {
      "cell_type": "code",
      "source": [
        "nps_calculado = input('Por favor insira a nota NPS do exemplo dado:\\n')\n",
        "npscalculado_convert = int(nps_calculado)\n",
        "if npscalculado_convert != 20:\n",
        "    print('Favor inserir o valor 20')\n",
        "else:\n",
        "    print('Zona de Aperfeiçoamento')"
      ],
      "metadata": {
        "colab": {
          "base_uri": "https://localhost:8080/"
        },
        "id": "nyZnzSjzHT35",
        "outputId": "22f13e14-d416-4cf9-8397-68d58f2d22f9"
      },
      "execution_count": 18,
      "outputs": [
        {
          "output_type": "stream",
          "name": "stdout",
          "text": [
            "Por favor insira a nota NPS do exemplo dado:\n",
            "20\n",
            "Zona de Aperfeiçoamento\n"
          ]
        }
      ]
    }
  ]
}